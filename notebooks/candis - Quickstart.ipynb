{
 "cells": [
  {
   "cell_type": "markdown",
   "metadata": {},
   "source": [
    "#### Prerequisites"
   ]
  },
  {
   "cell_type": "code",
   "execution_count": 1,
   "metadata": {},
   "outputs": [],
   "source": [
    "import time"
   ]
  },
  {
   "cell_type": "markdown",
   "metadata": {},
   "source": [
    "The canonical way to import `candis` is as follows:"
   ]
  },
  {
   "cell_type": "code",
   "execution_count": 3,
   "metadata": {},
   "outputs": [],
   "source": [
    "import candis"
   ]
  },
  {
   "cell_type": "markdown",
   "metadata": {},
   "source": [
    "#### `candis.CData`"
   ]
  },
  {
   "cell_type": "code",
   "execution_count": 4,
   "metadata": {},
   "outputs": [
    {
     "name": "stderr",
     "output_type": "stream",
     "text": [
      "/home/rupav/opensource/candisVENV/lib/python3.6/site-packages/pandas/core/indexing.py:189: SettingWithCopyWarning: \n",
      "A value is trying to be set on a copy of a slice from a DataFrame\n",
      "\n",
      "See the caveats in the documentation: http://pandas.pydata.org/pandas-docs/stable/indexing.html#indexing-view-versus-copy\n",
      "  self._setitem_with_indexer(indexer, value)\n"
     ]
    },
    {
     "data": {
      "text/html": [
       "<div>\n",
       "<style scoped>\n",
       "    .dataframe tbody tr th:only-of-type {\n",
       "        vertical-align: middle;\n",
       "    }\n",
       "\n",
       "    .dataframe tbody tr th {\n",
       "        vertical-align: top;\n",
       "    }\n",
       "\n",
       "    .dataframe thead th {\n",
       "        text-align: right;\n",
       "    }\n",
       "</style>\n",
       "<table border=\"1\" class=\"dataframe\">\n",
       "  <thead>\n",
       "    <tr style=\"text-align: right;\">\n",
       "      <th></th>\n",
       "      <th>!cel CEL</th>\n",
       "      <th>Gender</th>\n",
       "      <th>Age</th>\n",
       "      <th>!class Label</th>\n",
       "    </tr>\n",
       "  </thead>\n",
       "  <tbody>\n",
       "    <tr>\n",
       "      <th>0</th>\n",
       "      <td>/home/rupav/opensource/candis/CRES/GSM39104.cel</td>\n",
       "      <td>male</td>\n",
       "      <td>32</td>\n",
       "      <td>tumour</td>\n",
       "    </tr>\n",
       "    <tr>\n",
       "      <th>1</th>\n",
       "      <td>/home/rupav/opensource/candis/CRES/GSM39105.cel</td>\n",
       "      <td>female</td>\n",
       "      <td>41</td>\n",
       "      <td>normal</td>\n",
       "    </tr>\n",
       "  </tbody>\n",
       "</table>\n",
       "</div>"
      ],
      "text/plain": [
       "                                          !cel CEL  Gender  Age !class Label\n",
       "0  /home/rupav/opensource/candis/CRES/GSM39104.cel    male   32       tumour\n",
       "1  /home/rupav/opensource/candis/CRES/GSM39105.cel  female   41       normal"
      ]
     },
     "execution_count": 4,
     "metadata": {},
     "output_type": "execute_result"
    }
   ],
   "source": [
    "cdata    = candis.CData.load('../CRES/sample.cdata')\n",
    "nsamples = 5 if len(cdata.data) > 5 else len(cdata.data)\n",
    "cdata.data.sample(nsamples)"
   ]
  },
  {
   "cell_type": "markdown",
   "metadata": {},
   "source": [
    "#### Converting a CData to an ARFF file"
   ]
  },
  {
   "cell_type": "code",
   "execution_count": 6,
   "metadata": {
    "scrolled": false
   },
   "outputs": [
    {
     "name": "stdout",
     "output_type": "stream",
     "text": [
      "8793\n",
      " \n",
      "ids to be processed\n",
      "\n",
      "|\n",
      "\n",
      "                    \n",
      "\n",
      "|\n",
      "\n",
      "|\n",
      "#\n",
      "#\n",
      "#\n",
      "#\n",
      "#\n",
      "#\n",
      "#\n",
      "#\n",
      "#\n",
      "#\n",
      "#\n",
      "#\n",
      "#\n",
      "#\n",
      "#\n",
      "#\n",
      "#\n",
      "#\n",
      "#\n",
      "#\n",
      "|\n",
      "\n"
     ]
    }
   ],
   "source": [
    "cdata.toARFF('data/sample.arff')"
   ]
  },
  {
   "cell_type": "markdown",
   "metadata": {},
   "source": [
    "#### `candis.Pipeline`"
   ]
  },
  {
   "cell_type": "code",
   "execution_count": 5,
   "metadata": {},
   "outputs": [],
   "source": [
    "# cdata, pipe = candis.Pipeline.load('../CRES/MyPipeline.cpipe')"
   ]
  },
  {
   "cell_type": "code",
   "execution_count": 9,
   "metadata": {},
   "outputs": [
    {
     "name": "stderr",
     "output_type": "stream",
     "text": [
      "DEBUG:weka.core.jvm:Adding bundled jars\n",
      "DEBUG:weka.core.jvm:Classpath=['/home/rupav/opensource/candisVENV/lib/python3.6/site-packages/javabridge/jars/rhino-1.7R4.jar', '/home/rupav/opensource/candisVENV/lib/python3.6/site-packages/javabridge/jars/runnablequeue.jar', '/home/rupav/opensource/candisVENV/lib/python3.6/site-packages/javabridge/jars/cpython.jar', '/home/rupav/opensource/candisVENV/lib/python3.6/site-packages/weka/lib/python-weka-wrapper.jar', '/home/rupav/opensource/candisVENV/lib/python3.6/site-packages/weka/lib/weka.jar', '/home/rupav/opensource/candisVENV/lib/python3.6/site-packages/weka/lib/python-weka-wrapper.jar', '/home/rupav/opensource/candisVENV/lib/python3.6/site-packages/weka/lib/weka.jar', '/home/rupav/opensource/candisVENV/lib/python3.6/site-packages/weka/lib/python-weka-wrapper.jar', '/home/rupav/opensource/candisVENV/lib/python3.6/site-packages/weka/lib/weka.jar']\n",
      "DEBUG:weka.core.jvm:MaxHeapSize=16384m\n",
      "DEBUG:weka.core.jvm:Package support disabled\n",
      "DEBUG:javabridge.jutil:Creating JVM object\n",
      "Traceback (most recent call last):\n",
      "  File \"/home/rupav/opensource/candisVENV/lib/python3.6/site-packages/javabridge/jutil.py\", line 279, in start_thread\n",
      "    env = vm.create(args)\n",
      "  File \"_javabridge.pyx\", line 615, in _javabridge.JB_VM.create (_javabridge.c:6647)\n",
      "RuntimeError: Failed to create Java VM. Return code = -5\n",
      "ERROR:javabridge.jutil:Failed to create Java VM\n",
      "DEBUG:javabridge.jutil:Signalling caller\n",
      "Exception in thread Thread-8:\n",
      "Traceback (most recent call last):\n",
      "  File \"/usr/lib/python3.6/threading.py\", line 916, in _bootstrap_inner\n",
      "    self.run()\n",
      "  File \"/usr/lib/python3.6/threading.py\", line 864, in run\n",
      "    self._target(*self._args, **self._kwargs)\n",
      "  File \"/home/rupav/opensource/candisVENV/lib/python3.6/site-packages/candis/ios/pipeline/pipeline.py\", line 247, in runner\n",
      "    JVM.start(max_heap_size = '{size}m'.format(size = heap_size))\n",
      "  File \"/home/rupav/opensource/candisVENV/lib/python3.6/site-packages/weka/core/jvm.py\", line 108, in start\n",
      "    javabridge.start_vm(args=args, run_headless=True, max_heap_size=max_heap_size)\n",
      "  File \"/home/rupav/opensource/candisVENV/lib/python3.6/site-packages/javabridge/jutil.py\", line 312, in start_vm\n",
      "    raise RuntimeError(\"Failed to start Java VM\")\n",
      "RuntimeError: Failed to start Java VM\n",
      "\n"
     ]
    }
   ],
   "source": [
    "pipe = candis.Pipeline()\n",
    "pipe.run(cdata)"
   ]
  },
  {
   "cell_type": "code",
   "execution_count": 7,
   "metadata": {},
   "outputs": [
    {
     "name": "stdout",
     "output_type": "stream",
     "text": [
      "RUNNING\n",
      "[]\n",
      "RUNNING\n",
      "[]\n",
      "RUNNING\n",
      "[]\n",
      "RUNNING\n",
      "[]\n",
      "RUNNING\n",
      "[]\n",
      "RUNNING\n",
      "[]\n",
      "RUNNING\n",
      "[]\n",
      "RUNNING\n",
      "[]\n",
      "RUNNING\n",
      "[]\n"
     ]
    },
    {
     "ename": "KeyboardInterrupt",
     "evalue": "",
     "output_type": "error",
     "traceback": [
      "\u001b[0;31m---------------------------------------------------------------------------\u001b[0m",
      "\u001b[0;31mKeyboardInterrupt\u001b[0m                         Traceback (most recent call last)",
      "\u001b[0;32m<ipython-input-7-78000ddfffb5>\u001b[0m in \u001b[0;36m<module>\u001b[0;34m()\u001b[0m\n\u001b[1;32m      3\u001b[0m     \u001b[0mprint\u001b[0m\u001b[0;34m(\u001b[0m\u001b[0mpipe\u001b[0m\u001b[0;34m.\u001b[0m\u001b[0mstages\u001b[0m\u001b[0;34m)\u001b[0m\u001b[0;34m\u001b[0m\u001b[0m\n\u001b[1;32m      4\u001b[0m \u001b[0;34m\u001b[0m\u001b[0m\n\u001b[0;32m----> 5\u001b[0;31m     \u001b[0mtime\u001b[0m\u001b[0;34m.\u001b[0m\u001b[0msleep\u001b[0m\u001b[0;34m(\u001b[0m\u001b[0;36m10\u001b[0m\u001b[0;34m)\u001b[0m\u001b[0;34m\u001b[0m\u001b[0m\n\u001b[0m\u001b[1;32m      6\u001b[0m \u001b[0;34m\u001b[0m\u001b[0m\n",
      "\u001b[0;31mKeyboardInterrupt\u001b[0m: "
     ]
    }
   ],
   "source": [
    "while pipe.status == candis.Pipeline.RUNNING:\n",
    "    print(pipe.status)\n",
    "    print(pipe.stages)\n",
    "    \n",
    "    time.sleep(10)\n",
    "    "
   ]
  },
  {
   "cell_type": "code",
   "execution_count": null,
   "metadata": {},
   "outputs": [],
   "source": [
    "# candis.CONFIG.Pipeline.Preprocess "
   ]
  },
  {
   "cell_type": "code",
   "execution_count": null,
   "metadata": {
    "collapsed": true
   },
   "outputs": [],
   "source": [
    "# pipe.status"
   ]
  },
  {
   "cell_type": "code",
   "execution_count": null,
   "metadata": {
    "collapsed": true
   },
   "outputs": [],
   "source": [
    "# cdata.data"
   ]
  },
  {
   "cell_type": "code",
   "execution_count": null,
   "metadata": {
    "collapsed": true
   },
   "outputs": [],
   "source": []
  }
 ],
 "metadata": {
  "kernelspec": {
   "display_name": "Python 3",
   "language": "python",
   "name": "python3"
  },
  "language_info": {
   "codemirror_mode": {
    "name": "ipython",
    "version": 3
   },
   "file_extension": ".py",
   "mimetype": "text/x-python",
   "name": "python",
   "nbconvert_exporter": "python",
   "pygments_lexer": "ipython3",
   "version": "3.6.3"
  }
 },
 "nbformat": 4,
 "nbformat_minor": 2
}
