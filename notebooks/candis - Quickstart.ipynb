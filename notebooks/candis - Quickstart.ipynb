{
 "cells": [
  {
   "cell_type": "markdown",
   "metadata": {},
   "source": [
    "#### Prerequisites"
   ]
  },
  {
   "cell_type": "code",
   "execution_count": 1,
   "metadata": {},
   "outputs": [],
   "source": [
    "import time\n",
    "import pandas"
   ]
  },
  {
   "cell_type": "markdown",
   "metadata": {},
   "source": [
    "The canonical way to import `candis` is as follows:"
   ]
  },
  {
   "cell_type": "code",
   "execution_count": 2,
   "metadata": {},
   "outputs": [
    {
     "name": "stderr",
     "output_type": "stream",
     "text": [
      "DEBUG:/usr/local/lib/python3.5/dist-packages/envparse.py:envfile not found at /app/src/candis/app/server/.env, looking in parent dir.\n",
      "DEBUG:/usr/local/lib/python3.5/dist-packages/envparse.py:envfile not found at /app/src/candis/app/.env, looking in parent dir.\n",
      "DEBUG:/usr/local/lib/python3.5/dist-packages/envparse.py:envfile not found at /app/src/candis/.env, looking in parent dir.\n",
      "DEBUG:/usr/local/lib/python3.5/dist-packages/envparse.py:envfile not found at /app/src/.env, looking in parent dir.\n",
      "DEBUG:/usr/local/lib/python3.5/dist-packages/envparse.py:envfile not found at /app/.env, looking in parent dir.\n",
      "DEBUG:/usr/local/lib/python3.5/dist-packages/envparse.py:envfile not found at /.env, looking in parent dir.\n",
      "/usr/local/lib/python3.5/dist-packages/envparse.py:195: UserWarning: Could not any envfile.\n",
      "  warnings.warn('Could not any envfile.')\n",
      "DEBUG:/usr/local/lib/python3.5/dist-packages/envparse.py:Get 'CANDIS_DATABASE_DRIVERNAME' casted as '<class 'str'>'/'None' with default 'postgresql'\n",
      "DEBUG:/usr/local/lib/python3.5/dist-packages/envparse.py:Get 'CANDIS_DATABASE_HOST' casted as '<class 'str'>'/'None' with default 'localhost'\n",
      "DEBUG:/usr/local/lib/python3.5/dist-packages/envparse.py:Get 'CANDIS_DATABASE_PORT' casted as '<class 'str'>'/'None' with default '5432'\n",
      "DEBUG:/usr/local/lib/python3.5/dist-packages/envparse.py:Get 'CANDIS_DATABASE_USERNAME' casted as '<class 'str'>'/'None' with default 'postgres'\n",
      "DEBUG:/usr/local/lib/python3.5/dist-packages/envparse.py:Get 'CANDIS_DATABASE_PASSWORD' casted as '<class 'str'>'/'None' with default 'postgres'\n",
      "DEBUG:/usr/local/lib/python3.5/dist-packages/envparse.py:Get 'CANDIS_DATABASE_NAME' casted as '<class 'str'>'/'None' with default 'postgres'\n",
      "DEBUG:/usr/local/lib/python3.5/dist-packages/envparse.py:Get 'CANDIS_MAIL_SERVER' casted as '<class 'str'>'/'None' with default 'smtp.gmail.com'\n",
      "DEBUG:/usr/local/lib/python3.5/dist-packages/envparse.py:Get 'CANDIS_MAIL_PORT' casted as '<class 'str'>'/'None' with default '465'\n",
      "DEBUG:/usr/local/lib/python3.5/dist-packages/envparse.py:Get 'CANDIS_MAIL_USERNAME' casted as '<class 'str'>'/'None' with default 'rupavjain1@gmail.com'\n",
      "DEBUG:/usr/local/lib/python3.5/dist-packages/envparse.py:Get 'CANDIS_MAIL_PASSWORD' casted as '<class 'str'>'/'None' with default 'codingninja'\n",
      "DEBUG:/usr/local/lib/python3.5/dist-packages/envparse.py:Get 'CANDIS_MAIL_DEFAULT_SENDER' casted as '<class 'str'>'/'None' with default 'rupavjain1@gmail.com'\n",
      "DEBUG:/usr/local/lib/python3.5/dist-packages/envparse.py:Get 'CANDIS_MAIL_USE_SSL' casted as '<class 'bool'>'/'None' with default 'True'\n",
      "DEBUG:/usr/local/lib/python3.5/dist-packages/envparse.py:Get 'CANDIS_SECRET_KEY' casted as '<class 'str'>'/'None' with default 'super_secret_key'\n",
      "DEBUG:/usr/local/lib/python3.5/dist-packages/envparse.py:Get 'CANDIS_SQLALCHEMY_TRACK_MODIFICATIONS' casted as '<class 'str'>'/'None' with default 'False'\n",
      "DEBUG:/usr/local/lib/python3.5/dist-packages/envparse.py:Get 'CANDIS_INTEGRATE_SOCKETIO' casted as '<class 'str'>'/'None' with default 'True'\n",
      "INFO:engineio:Server initialized for threading.\n"
     ]
    }
   ],
   "source": [
    "import candis"
   ]
  },
  {
   "cell_type": "markdown",
   "metadata": {},
   "source": [
    "#### `candis.CData`"
   ]
  },
  {
   "cell_type": "code",
   "execution_count": 3,
   "metadata": {},
   "outputs": [
    {
     "name": "stderr",
     "output_type": "stream",
     "text": [
      "/usr/local/lib/python3.5/dist-packages/pandas/core/indexing.py:190: SettingWithCopyWarning: \n",
      "A value is trying to be set on a copy of a slice from a DataFrame\n",
      "\n",
      "See the caveats in the documentation: http://pandas.pydata.org/pandas-docs/stable/indexing.html#indexing-view-versus-copy\n",
      "  self._setitem_with_indexer(indexer, value)\n"
     ]
    },
    {
     "data": {
      "text/html": [
       "<div>\n",
       "<style scoped>\n",
       "    .dataframe tbody tr th:only-of-type {\n",
       "        vertical-align: middle;\n",
       "    }\n",
       "\n",
       "    .dataframe tbody tr th {\n",
       "        vertical-align: top;\n",
       "    }\n",
       "\n",
       "    .dataframe thead th {\n",
       "        text-align: right;\n",
       "    }\n",
       "</style>\n",
       "<table border=\"1\" class=\"dataframe\">\n",
       "  <thead>\n",
       "    <tr style=\"text-align: right;\">\n",
       "      <th></th>\n",
       "      <th>!cel CEL</th>\n",
       "      <th>Gender</th>\n",
       "      <th>Age</th>\n",
       "      <th>!class Label</th>\n",
       "    </tr>\n",
       "  </thead>\n",
       "  <tbody>\n",
       "    <tr>\n",
       "      <th>1</th>\n",
       "      <td>/app/CRES/GSM39105.cel</td>\n",
       "      <td>female</td>\n",
       "      <td>41</td>\n",
       "      <td>normal</td>\n",
       "    </tr>\n",
       "    <tr>\n",
       "      <th>0</th>\n",
       "      <td>/app/CRES/GSM39104.cel</td>\n",
       "      <td>male</td>\n",
       "      <td>32</td>\n",
       "      <td>tumour</td>\n",
       "    </tr>\n",
       "  </tbody>\n",
       "</table>\n",
       "</div>"
      ],
      "text/plain": [
       "                 !cel CEL  Gender  Age !class Label\n",
       "1  /app/CRES/GSM39105.cel  female   41       normal\n",
       "0  /app/CRES/GSM39104.cel    male   32       tumour"
      ]
     },
     "execution_count": 3,
     "metadata": {},
     "output_type": "execute_result"
    }
   ],
   "source": [
    "cdata    = candis.CData.load('../CRES/sample.cdata')\n",
    "nsamples = 5 if len(cdata.data) > 5 else len(cdata.data)\n",
    "cdata.data.sample(nsamples)"
   ]
  },
  {
   "cell_type": "markdown",
   "metadata": {},
   "source": [
    "#### Converting a CData to an ARFF file"
   ]
  },
  {
   "cell_type": "code",
   "execution_count": 4,
   "metadata": {
    "scrolled": false
   },
   "outputs": [
    {
     "name": "stdout",
     "output_type": "stream",
     "text": [
      "8793\n",
      " \n",
      "ids to be processed\n",
      "\n",
      "|\n",
      "\n",
      "                    \n",
      "\n",
      "|\n",
      "\n",
      "|\n",
      "#\n",
      "#\n",
      "#\n",
      "#\n",
      "#\n",
      "#\n",
      "#\n",
      "#\n",
      "#\n",
      "#\n",
      "#\n",
      "#\n",
      "#\n",
      "#\n",
      "#\n",
      "#\n",
      "#\n",
      "#\n",
      "#\n",
      "#\n",
      "|\n",
      "\n"
     ]
    }
   ],
   "source": [
    "cdata.toARFF('data/sample.arff')"
   ]
  },
  {
   "cell_type": "markdown",
   "metadata": {},
   "source": [
    "#### `candis.Pipeline`"
   ]
  },
  {
   "cell_type": "code",
   "execution_count": 5,
   "metadata": {},
   "outputs": [],
   "source": [
    "# cdata, pipe = candis.Pipeline.load('../CRES/MyPipeline.cpipe')"
   ]
  },
  {
   "cell_type": "code",
   "execution_count": 6,
   "metadata": {},
   "outputs": [],
   "source": [
    "df = cdata.toPandas('data/sample.arff')"
   ]
  },
  {
   "cell_type": "code",
   "execution_count": 7,
   "metadata": {},
   "outputs": [
    {
     "data": {
      "text/html": [
       "<div>\n",
       "<style scoped>\n",
       "    .dataframe tbody tr th:only-of-type {\n",
       "        vertical-align: middle;\n",
       "    }\n",
       "\n",
       "    .dataframe tbody tr th {\n",
       "        vertical-align: top;\n",
       "    }\n",
       "\n",
       "    .dataframe thead th {\n",
       "        text-align: right;\n",
       "    }\n",
       "</style>\n",
       "<table border=\"1\" class=\"dataframe\">\n",
       "  <thead>\n",
       "    <tr style=\"text-align: right;\">\n",
       "      <th></th>\n",
       "      <th>1007_s_at@NUMERIC</th>\n",
       "      <th>1053_at@NUMERIC</th>\n",
       "      <th>117_at@NUMERIC</th>\n",
       "      <th>121_at@NUMERIC</th>\n",
       "      <th>1255_g_at@NUMERIC</th>\n",
       "      <th>1294_at@NUMERIC</th>\n",
       "      <th>1316_at@NUMERIC</th>\n",
       "      <th>1320_at@NUMERIC</th>\n",
       "      <th>1431_at@NUMERIC</th>\n",
       "      <th>1438_at@NUMERIC</th>\n",
       "      <th>...</th>\n",
       "      <th>AFFX-r2-Ec-bioB-M_at@NUMERIC</th>\n",
       "      <th>AFFX-r2-Ec-bioC-3_at@NUMERIC</th>\n",
       "      <th>AFFX-r2-Ec-bioC-5_at@NUMERIC</th>\n",
       "      <th>AFFX-r2-Ec-bioD-3_at@NUMERIC</th>\n",
       "      <th>AFFX-r2-Ec-bioD-5_at@NUMERIC</th>\n",
       "      <th>AFFX-r2-P1-cre-3_at@NUMERIC</th>\n",
       "      <th>AFFX-r2-P1-cre-5_at@NUMERIC</th>\n",
       "      <th>Gender@[male, female]</th>\n",
       "      <th>Age@NUMERIC</th>\n",
       "      <th>CLASS@[tumour, normal]</th>\n",
       "    </tr>\n",
       "  </thead>\n",
       "  <tbody>\n",
       "    <tr>\n",
       "      <th>0</th>\n",
       "      <td>6.106539</td>\n",
       "      <td>3.993486</td>\n",
       "      <td>6.772148</td>\n",
       "      <td>7.948026</td>\n",
       "      <td>3.178170</td>\n",
       "      <td>6.406079</td>\n",
       "      <td>4.768094</td>\n",
       "      <td>3.895438</td>\n",
       "      <td>3.345614</td>\n",
       "      <td>5.455136</td>\n",
       "      <td>...</td>\n",
       "      <td>8.255882</td>\n",
       "      <td>9.279821</td>\n",
       "      <td>9.440941</td>\n",
       "      <td>11.362920</td>\n",
       "      <td>11.247769</td>\n",
       "      <td>13.148858</td>\n",
       "      <td>13.261658</td>\n",
       "      <td>male</td>\n",
       "      <td>32.0</td>\n",
       "      <td>tumour</td>\n",
       "    </tr>\n",
       "    <tr>\n",
       "      <th>1</th>\n",
       "      <td>6.291161</td>\n",
       "      <td>4.020457</td>\n",
       "      <td>5.742868</td>\n",
       "      <td>8.119741</td>\n",
       "      <td>3.205104</td>\n",
       "      <td>6.630163</td>\n",
       "      <td>4.911672</td>\n",
       "      <td>3.947161</td>\n",
       "      <td>3.416499</td>\n",
       "      <td>5.226399</td>\n",
       "      <td>...</td>\n",
       "      <td>7.957403</td>\n",
       "      <td>9.161856</td>\n",
       "      <td>9.098763</td>\n",
       "      <td>11.160987</td>\n",
       "      <td>11.056925</td>\n",
       "      <td>12.993626</td>\n",
       "      <td>13.307918</td>\n",
       "      <td>female</td>\n",
       "      <td>41.0</td>\n",
       "      <td>normal</td>\n",
       "    </tr>\n",
       "  </tbody>\n",
       "</table>\n",
       "<p>2 rows × 8796 columns</p>\n",
       "</div>"
      ],
      "text/plain": [
       "   1007_s_at@NUMERIC  1053_at@NUMERIC  117_at@NUMERIC  121_at@NUMERIC  \\\n",
       "0           6.106539         3.993486        6.772148        7.948026   \n",
       "1           6.291161         4.020457        5.742868        8.119741   \n",
       "\n",
       "   1255_g_at@NUMERIC  1294_at@NUMERIC  1316_at@NUMERIC  1320_at@NUMERIC  \\\n",
       "0           3.178170         6.406079         4.768094         3.895438   \n",
       "1           3.205104         6.630163         4.911672         3.947161   \n",
       "\n",
       "   1431_at@NUMERIC  1438_at@NUMERIC  ...  AFFX-r2-Ec-bioB-M_at@NUMERIC  \\\n",
       "0         3.345614         5.455136  ...                      8.255882   \n",
       "1         3.416499         5.226399  ...                      7.957403   \n",
       "\n",
       "   AFFX-r2-Ec-bioC-3_at@NUMERIC  AFFX-r2-Ec-bioC-5_at@NUMERIC  \\\n",
       "0                      9.279821                      9.440941   \n",
       "1                      9.161856                      9.098763   \n",
       "\n",
       "   AFFX-r2-Ec-bioD-3_at@NUMERIC  AFFX-r2-Ec-bioD-5_at@NUMERIC  \\\n",
       "0                     11.362920                     11.247769   \n",
       "1                     11.160987                     11.056925   \n",
       "\n",
       "   AFFX-r2-P1-cre-3_at@NUMERIC  AFFX-r2-P1-cre-5_at@NUMERIC  \\\n",
       "0                    13.148858                    13.261658   \n",
       "1                    12.993626                    13.307918   \n",
       "\n",
       "   Gender@[male, female]  Age@NUMERIC  CLASS@[tumour, normal]  \n",
       "0                   male         32.0                  tumour  \n",
       "1                 female         41.0                  normal  \n",
       "\n",
       "[2 rows x 8796 columns]"
      ]
     },
     "execution_count": 7,
     "metadata": {},
     "output_type": "execute_result"
    }
   ],
   "source": [
    "df"
   ]
  },
  {
   "cell_type": "code",
   "execution_count": 8,
   "metadata": {},
   "outputs": [
    {
     "name": "stderr",
     "output_type": "stream",
     "text": [
      "DEBUG:weka.core.jvm:Adding bundled jars\n",
      "DEBUG:weka.core.jvm:Classpath=['/usr/local/lib/python3.5/dist-packages/javabridge/jars/rhino-1.7R4.jar', '/usr/local/lib/python3.5/dist-packages/javabridge/jars/runnablequeue.jar', '/usr/local/lib/python3.5/dist-packages/javabridge/jars/cpython.jar', '/usr/local/lib/python3.5/dist-packages/weka/lib/weka.jar', '/usr/local/lib/python3.5/dist-packages/weka/lib/python-weka-wrapper.jar']\n",
      "DEBUG:weka.core.jvm:MaxHeapSize=16384m\n",
      "DEBUG:weka.core.jvm:Package support disabled\n",
      "DEBUG:javabridge.jutil:Creating JVM object\n",
      "DEBUG:javabridge.jutil:Signalling caller\n"
     ]
    }
   ],
   "source": [
    "pipe = candis.Pipeline()\n",
    "pipe.run(cdata)"
   ]
  },
  {
   "cell_type": "code",
   "execution_count": 9,
   "metadata": {},
   "outputs": [
    {
     "data": {
      "image/png": "[encoded data removed]",
      "text/plain": [
       "<matplotlib.figure.Figure at 0x7f26dae229e8>"
      ]
     },
     "metadata": {},
     "output_type": "display_data"
    },
    {
     "data": {
      "image/png": "[encoded data removed]",
      "text/plain": [
       "<matplotlib.figure.Figure at 0x7f268ea228d0>"
      ]
     },
     "metadata": {},
     "output_type": "display_data"
    },
    {
     "data": {
      "image/png": "[encoded data removed]",
      "text/plain": [
       "<matplotlib.figure.Figure at 0x7f2687749dd8>"
      ]
     },
     "metadata": {},
     "output_type": "display_data"
    },
    {
     "data": {
      "image/png": "[encoded data removed]",
      "text/plain": [
       "<matplotlib.figure.Figure at 0x7f26877060f0>"
      ]
     },
     "metadata": {},
     "output_type": "display_data"
    }
   ],
   "source": [
    "while pipe.status == candis.Pipeline.RUNNING:\n",
    "    print(pipe.status)\n",
    "    print(pipe.stages)\n",
    "    \n",
    "    time.sleep(10)\n",
    "    "
   ]
  },
  {
   "cell_type": "code",
   "execution_count": 10,
   "metadata": {},
   "outputs": [],
   "source": [
    "# candis.CONFIG.Pipeline.Preprocess "
   ]
  },
  {
   "cell_type": "code",
   "execution_count": 11,
   "metadata": {},
   "outputs": [],
   "source": [
    "# pipe.status"
   ]
  },
  {
   "cell_type": "code",
   "execution_count": 12,
   "metadata": {},
   "outputs": [],
   "source": [
    "# cdata.data"
   ]
  },
  {
   "cell_type": "code",
   "execution_count": null,
   "metadata": {},
   "outputs": [],
   "source": []
  },
  {
   "cell_type": "code",
   "execution_count": null,
   "metadata": {},
   "outputs": [],
   "source": []
  }
 ],
 "metadata": {
  "kernelspec": {
   "display_name": "Python 3",
   "language": "python",
   "name": "python3"
  },
  "language_info": {
   "codemirror_mode": {
    "name": "ipython",
    "version": 3
   },
   "file_extension": ".py",
   "mimetype": "text/x-python",
   "name": "python",
   "nbconvert_exporter": "python",
   "pygments_lexer": "ipython3",
   "version": "3.5.3"
  }
 },
 "nbformat": 4,
 "nbformat_minor": 2
}
